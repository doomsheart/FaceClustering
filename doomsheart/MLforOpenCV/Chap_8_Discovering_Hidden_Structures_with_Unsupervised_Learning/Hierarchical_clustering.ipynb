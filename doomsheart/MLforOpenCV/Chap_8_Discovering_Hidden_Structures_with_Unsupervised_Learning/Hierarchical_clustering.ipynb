{
  "nbformat": 4,
  "nbformat_minor": 0,
  "metadata": {
    "colab": {
      "name": "Hierarchical_clustering.ipynb",
      "version": "0.3.2",
      "provenance": []
    },
    "kernelspec": {
      "display_name": "Python 3",
      "language": "python",
      "name": "python3"
    }
  },
  "cells": [
    {
      "metadata": {
        "id": "NbuAvH9TfT2C",
        "colab_type": "text"
      },
      "cell_type": "markdown",
      "source": [
        "compose cluster as hierachical tree\n",
        "\n",
        "There are two hierarchical clustering method.\n",
        "  1. agglomerative hierarchical clustering :\n",
        "    - each point \n",
        "    - subsequently merge the closest pair of clusters until only one cluster remains\n",
        "  2. divisive hierarchical clustering\n",
        "    - assigning all the data points to one and subsequently split until each cluster only contains one sample"
      ]
    },
    {
      "metadata": {
        "id": "XZQIkVvgfXW8",
        "colab_type": "code",
        "colab": {}
      },
      "cell_type": "code",
      "source": [
        ""
      ],
      "execution_count": 0,
      "outputs": []
    }
  ]
}