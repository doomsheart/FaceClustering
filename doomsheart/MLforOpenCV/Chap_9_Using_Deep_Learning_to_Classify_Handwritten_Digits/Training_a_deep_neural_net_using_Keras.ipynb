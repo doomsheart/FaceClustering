{
  "nbformat": 4,
  "nbformat_minor": 0,
  "metadata": {
    "colab": {
      "name": "Training_a_deep_neural_net_using_Keras.ipynb",
      "version": "0.3.2",
      "provenance": []
    },
    "kernelspec": {
      "name": "python3",
      "display_name": "Python 3"
    }
  },
  "cells": [
    {
      "metadata": {
        "id": "ySquGY2n722Z",
        "colab_type": "code",
        "colab": {}
      },
      "cell_type": "code",
      "source": [
        "import numpy as np\n",
        "np.random.seed(1337)"
      ],
      "execution_count": 0,
      "outputs": []
    },
    {
      "metadata": {
        "id": "VkrFylgy-meI",
        "colab_type": "code",
        "colab": {
          "base_uri": "https://localhost:8080/",
          "height": 35
        },
        "outputId": "739ad75d-9f16-4e53-87e2-4752db65d607"
      },
      "cell_type": "code",
      "source": [
        "from keras.datasets import mnist\n",
        "(X_train, y_train), (X_test, y_test) = mnist.load_data()"
      ],
      "execution_count": 2,
      "outputs": [
        {
          "output_type": "stream",
          "text": [
            "Using TensorFlow backend.\n"
          ],
          "name": "stderr"
        }
      ]
    },
    {
      "metadata": {
        "id": "L5vbZN7oarxi",
        "colab_type": "code",
        "colab": {
          "base_uri": "https://localhost:8080/",
          "height": 35
        },
        "outputId": "9514c691-d36e-477c-83c5-001cbccc46cb"
      },
      "cell_type": "code",
      "source": [
        "X_train.shape[0]"
      ],
      "execution_count": 3,
      "outputs": [
        {
          "output_type": "execute_result",
          "data": {
            "text/plain": [
              "60000"
            ]
          },
          "metadata": {
            "tags": []
          },
          "execution_count": 3
        }
      ]
    },
    {
      "metadata": {
        "id": "dO-SkZRXB42B",
        "colab_type": "code",
        "colab": {}
      },
      "cell_type": "code",
      "source": [
        "img_rows, img_cols = 28, 28\n",
        "X_train = X_train.reshape(X_train.shape[0], img_rows, img_cols, 1) \n",
        "# 60000 28 28 1\n",
        "X_test = X_test.reshape(X_test.shape[0], img_rows, img_cols, 1)\n",
        "input_shape = (img_rows, img_cols, 1)\n",
        "# 28 28 1\n",
        "X_train = X_train.astype('float32') / 255.0\n",
        "X_test = X_test.astype('float32') / 255.0"
      ],
      "execution_count": 0,
      "outputs": []
    },
    {
      "metadata": {
        "id": "SuqyJM2vCblP",
        "colab_type": "code",
        "colab": {}
      },
      "cell_type": "code",
      "source": [
        "from keras.utils import np_utils\n",
        "n_classes = 10\n",
        "Y_train = np_utils.to_categorical(y_train, n_classes)\n",
        "Y_test = np_utils.to_categorical(y_test, n_classes)\n",
        "# Make 0~9 range value matrix to one hot encoding matrix"
      ],
      "execution_count": 0,
      "outputs": []
    },
    {
      "metadata": {
        "id": "kjmAtdJjEcC0",
        "colab_type": "code",
        "colab": {}
      },
      "cell_type": "code",
      "source": [
        "from keras.models import Sequential\n",
        "model = Sequential()"
      ],
      "execution_count": 0,
      "outputs": []
    },
    {
      "metadata": {
        "id": "Zj1CY38hGtp4",
        "colab_type": "code",
        "colab": {}
      },
      "cell_type": "code",
      "source": [
        "from keras.layers import Convolution2D\n",
        "n_filters = 32\n",
        "kernel_size = (3, 3)\n",
        "model.add(Convolution2D(n_filters, kernel_size=kernel_size,\n",
        "                        padding='valid', \n",
        "                        input_shape=input_shape))"
      ],
      "execution_count": 0,
      "outputs": []
    },
    {
      "metadata": {
        "id": "4kJA__BMHg0u",
        "colab_type": "code",
        "colab": {}
      },
      "cell_type": "code",
      "source": [
        "from keras.layers import Activation\n",
        "model.add(Activation('relu'))"
      ],
      "execution_count": 0,
      "outputs": []
    },
    {
      "metadata": {
        "id": "L3XrFwOwWCik",
        "colab_type": "code",
        "colab": {}
      },
      "cell_type": "code",
      "source": [
        "model.add(Convolution2D(n_filters, kernel_size=kernel_size))\n",
        "model.add(Activation('relu'))"
      ],
      "execution_count": 0,
      "outputs": []
    },
    {
      "metadata": {
        "id": "DOTZS-UjWVj7",
        "colab_type": "code",
        "colab": {}
      },
      "cell_type": "code",
      "source": [
        "from keras.layers import MaxPooling2D, Dropout\n",
        "pool_size = (2, 2)\n",
        "model.add(MaxPooling2D(pool_size=pool_size))\n",
        "model.add(Dropout(0.25))"
      ],
      "execution_count": 0,
      "outputs": []
    },
    {
      "metadata": {
        "id": "FHAaRpFAWu3C",
        "colab_type": "code",
        "colab": {}
      },
      "cell_type": "code",
      "source": [
        "from keras.layers import Flatten, Dense\n",
        "model.add(Flatten())\n",
        "model.add(Dense(128))\n",
        "model.add(Activation('relu'))\n",
        "model.add(Dropout(0.5))\n",
        "model.add(Dense(n_classes))\n",
        "model.add(Activation('softmax'))"
      ],
      "execution_count": 0,
      "outputs": []
    },
    {
      "metadata": {
        "id": "7RGnwTLKZixd",
        "colab_type": "code",
        "colab": {}
      },
      "cell_type": "code",
      "source": [
        "model.compile(loss='categorical_crossentropy', optimizer='adadelta', \n",
        "              metrics=['accuracy'])"
      ],
      "execution_count": 0,
      "outputs": []
    },
    {
      "metadata": {
        "id": "nj95wxIiW41S",
        "colab_type": "code",
        "colab": {
          "base_uri": "https://localhost:8080/",
          "height": 468
        },
        "outputId": "3b1e27d2-4de5-4c96-9e52-13a65d93efa4"
      },
      "cell_type": "code",
      "source": [
        "model.fit(X_train, Y_train, batch_size=128, epochs=12, verbose=1, validation_data=(X_test, Y_test))"
      ],
      "execution_count": 16,
      "outputs": [
        {
          "output_type": "stream",
          "text": [
            "Train on 60000 samples, validate on 10000 samples\n",
            "Epoch 1/12\n",
            "60000/60000 [==============================] - 180s 3ms/step - loss: 0.2606 - acc: 0.9208 - val_loss: 0.0615 - val_acc: 0.9796\n",
            "Epoch 2/12\n",
            "60000/60000 [==============================] - 180s 3ms/step - loss: 0.0859 - acc: 0.9745 - val_loss: 0.0395 - val_acc: 0.9863\n",
            "Epoch 3/12\n",
            "60000/60000 [==============================] - 182s 3ms/step - loss: 0.0656 - acc: 0.9809 - val_loss: 0.0321 - val_acc: 0.9887\n",
            "Epoch 4/12\n",
            "60000/60000 [==============================] - 182s 3ms/step - loss: 0.0531 - acc: 0.9839 - val_loss: 0.0274 - val_acc: 0.9913\n",
            "Epoch 5/12\n",
            "60000/60000 [==============================] - 181s 3ms/step - loss: 0.0458 - acc: 0.9861 - val_loss: 0.0270 - val_acc: 0.9912\n",
            "Epoch 6/12\n",
            "60000/60000 [==============================] - 182s 3ms/step - loss: 0.0421 - acc: 0.9875 - val_loss: 0.0250 - val_acc: 0.9918\n",
            "Epoch 7/12\n",
            "60000/60000 [==============================] - 181s 3ms/step - loss: 0.0384 - acc: 0.9885 - val_loss: 0.0230 - val_acc: 0.9921\n",
            "Epoch 8/12\n",
            "60000/60000 [==============================] - 182s 3ms/step - loss: 0.0343 - acc: 0.9900 - val_loss: 0.0227 - val_acc: 0.9929\n",
            "Epoch 9/12\n",
            "60000/60000 [==============================] - 182s 3ms/step - loss: 0.0342 - acc: 0.9899 - val_loss: 0.0219 - val_acc: 0.9924\n",
            "Epoch 10/12\n",
            "60000/60000 [==============================] - 182s 3ms/step - loss: 0.0312 - acc: 0.9905 - val_loss: 0.0244 - val_acc: 0.9925\n",
            "Epoch 11/12\n",
            "60000/60000 [==============================] - 182s 3ms/step - loss: 0.0299 - acc: 0.9911 - val_loss: 0.0231 - val_acc: 0.9917\n",
            "Epoch 12/12\n",
            "60000/60000 [==============================] - 181s 3ms/step - loss: 0.0275 - acc: 0.9915 - val_loss: 0.0240 - val_acc: 0.9918\n"
          ],
          "name": "stdout"
        },
        {
          "output_type": "execute_result",
          "data": {
            "text/plain": [
              "<keras.callbacks.History at 0x7fc53276b780>"
            ]
          },
          "metadata": {
            "tags": []
          },
          "execution_count": 16
        }
      ]
    },
    {
      "metadata": {
        "id": "HvZQVp9tXvTA",
        "colab_type": "text"
      },
      "cell_type": "markdown",
      "source": [
        "Useful link https://tykimos.github.io/2017/01/27/CNN_Layer_Talk/"
      ]
    }
  ]
}