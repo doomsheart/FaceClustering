{
  "nbformat": 4,
  "nbformat_minor": 0,
  "metadata": {
    "colab": {
      "name": "Implementing_a_Multilayer_Perceptron_in_OpenCV.ipynb",
      "version": "0.3.2",
      "provenance": []
    },
    "kernelspec": {
      "name": "python3",
      "display_name": "Python 3"
    }
  },
  "cells": [
    {
      "metadata": {
        "id": "eL8GBXBnlJN2",
        "colab_type": "code",
        "colab": {}
      },
      "cell_type": "code",
      "source": [
        "from sklearn.datasets.samples_generator import make_blobs\n",
        "X_raw, y_raw = make_blobs(n_samples=100, centers=2,\n",
        "                         cluster_std=5.2, random_state=42)"
      ],
      "execution_count": 0,
      "outputs": []
    },
    {
      "metadata": {
        "id": "ZtV2nGCUQcHa",
        "colab_type": "code",
        "colab": {}
      },
      "cell_type": "code",
      "source": [
        "import numpy as np\n",
        "X = X_raw.astype(np.float32)"
      ],
      "execution_count": 0,
      "outputs": []
    },
    {
      "metadata": {
        "id": "LPddApluQrNw",
        "colab_type": "code",
        "colab": {}
      },
      "cell_type": "code",
      "source": [
        "from sklearn.preprocessing import OneHotEncoder\n",
        "enc = OneHotEncoder(sparse=False, dtype=np.float32)\n",
        "y = enc.fit_transform(y_raw.reshape(-1, 1))"
      ],
      "execution_count": 0,
      "outputs": []
    },
    {
      "metadata": {
        "id": "i8t9jgkERZkA",
        "colab_type": "code",
        "colab": {}
      },
      "cell_type": "code",
      "source": [
        "import cv2 as cv\n",
        "mlp = cv.ml.ANN_MLP_create()"
      ],
      "execution_count": 0,
      "outputs": []
    },
    {
      "metadata": {
        "id": "PuGrewsZRf6w",
        "colab_type": "code",
        "colab": {}
      },
      "cell_type": "code",
      "source": [
        "n_input = 2\n",
        "n_hidden = 8\n",
        "n_output = 2\n",
        "mlp.setLayerSizes(np.array([n_input, n_hidden, n_output]))"
      ],
      "execution_count": 0,
      "outputs": []
    },
    {
      "metadata": {
        "id": "IRDLa81JVKG-",
        "colab_type": "code",
        "colab": {}
      },
      "cell_type": "code",
      "source": [
        "mlp.setActivationFunction(cv.ml.ANN_MLP_SIGMOID_SYM, 2.5 ,1.0)"
      ],
      "execution_count": 0,
      "outputs": []
    },
    {
      "metadata": {
        "id": "FfEnVNLIe9wq",
        "colab_type": "code",
        "colab": {}
      },
      "cell_type": "code",
      "source": [
        "import matplotlib.pyplot as plt\n",
        "%matplotlib inline\n",
        "plt.style.use('ggplot')"
      ],
      "execution_count": 0,
      "outputs": []
    },
    {
      "metadata": {
        "id": "JWraVkqBfHOR",
        "colab_type": "code",
        "colab": {
          "base_uri": "https://localhost:8080/",
          "height": 298
        },
        "outputId": "929d32e6-04f5-46ad-c674-78fffa75b059"
      },
      "cell_type": "code",
      "source": [
        "alpha = 2.5\n",
        "beta = 1.0\n",
        "x_sig = np.linspace(-1.0, 1.0, 100)\n",
        "y_sig = beta * (1.0 - np.exp(-alpha * x_sig))\n",
        "y_sig /= (1 + np.exp(-alpha * x_sig))\n",
        "plt.plot(x_sig, y_sig, linewidth=3);\n",
        "plt.xlabel('x')\n",
        "plt.ylabel('y')"
      ],
      "execution_count": 10,
      "outputs": [
        {
          "output_type": "execute_result",
          "data": {
            "text/plain": [
              "Text(0,0.5,'y')"
            ]
          },
          "metadata": {
            "tags": []
          },
          "execution_count": 10
        },
        {
          "output_type": "display_data",
          "data": {
            "image/png": "[encoded data removed]",
            "text/plain": [
              "<matplotlib.figure.Figure at 0x7f757185ad30>"
            ]
          },
          "metadata": {
            "tags": []
          }
        }
      ]
    },
    {
      "metadata": {
        "id": "7Xh4Lm69gFpo",
        "colab_type": "code",
        "colab": {}
      },
      "cell_type": "code",
      "source": [
        "mlp.setTrainMethod(cv.ml.ANN_MLP_BACKPROP)"
      ],
      "execution_count": 0,
      "outputs": []
    },
    {
      "metadata": {
        "id": "NWUmCjYZj_um",
        "colab_type": "code",
        "colab": {}
      },
      "cell_type": "code",
      "source": [
        "term_mode = cv.TERM_CRITERIA_MAX_ITER + cv.TERM_CRITERIA_EPS\n",
        "term_max_iter = 300\n",
        "term_eps = 0.01\n",
        "mlp.setTermCriteria((term_mode, term_max_iter, term_eps))"
      ],
      "execution_count": 0,
      "outputs": []
    },
    {
      "metadata": {
        "id": "6uxG3dC1mI41",
        "colab_type": "code",
        "colab": {
          "base_uri": "https://localhost:8080/",
          "height": 34
        },
        "outputId": "e0418764-0ba3-463e-8b5b-96f1e0435451"
      },
      "cell_type": "code",
      "source": [
        "mlp.train(X, cv.ml.ROW_SAMPLE, y)"
      ],
      "execution_count": 13,
      "outputs": [
        {
          "output_type": "execute_result",
          "data": {
            "text/plain": [
              "True"
            ]
          },
          "metadata": {
            "tags": []
          },
          "execution_count": 13
        }
      ]
    },
    {
      "metadata": {
        "id": "FNjXzdBmmN6V",
        "colab_type": "code",
        "colab": {}
      },
      "cell_type": "code",
      "source": [
        "_, y_hat = mlp.predict(X)"
      ],
      "execution_count": 0,
      "outputs": []
    },
    {
      "metadata": {
        "id": "MLK8bLMQmWB1",
        "colab_type": "code",
        "colab": {
          "base_uri": "https://localhost:8080/",
          "height": 34
        },
        "outputId": "9b0e4468-17be-4b8b-da98-4a974c83ccf5"
      },
      "cell_type": "code",
      "source": [
        "from sklearn.metrics import accuracy_score\n",
        "accuracy_score(y_hat.round(), y)"
      ],
      "execution_count": 15,
      "outputs": [
        {
          "output_type": "execute_result",
          "data": {
            "text/plain": [
              "0.84"
            ]
          },
          "metadata": {
            "tags": []
          },
          "execution_count": 15
        }
      ]
    },
    {
      "metadata": {
        "id": "iSlHneVWmgv8",
        "colab_type": "code",
        "colab": {}
      },
      "cell_type": "code",
      "source": [
        "def plot_decision_boundary(classifier, X_test, y_test):\n",
        "  h = 0.02\n",
        "  x_min, x_max = X_test[:, 0].min() - 1, X_test[:, 0].max() + 1\n",
        "  y_min, y_max = X_test[:, 0].min() - 1, X_test[:, 0].max() + 1\n",
        "  xx, yy = np.meshgrid(np.arange(x_min, x_max, h),\n",
        "                      np.arange(y_min, y_max, h))\n",
        "  X_hypo = np.c_[xx.ravel().astype(np.float32),\n",
        "                yy.ravel().astype(np.float32)]\n",
        "  _, zz = classifier.predict(X_hypo)\n",
        "  zz = np.argmax(zz, axis=1)\n",
        "  zz = zz.reshape(xx.shape)\n",
        "  plt.contourf(xx, yy, zz, cmap=plt.cm.coolwarm, alpha=0.8)\n",
        "  plt.scatter(X_test[:, 0], X_test[:, 1], c=y_test, s=50)"
      ],
      "execution_count": 0,
      "outputs": []
    },
    {
      "metadata": {
        "id": "HcPq-seRn2ht",
        "colab_type": "code",
        "colab": {
          "base_uri": "https://localhost:8080/",
          "height": 265
        },
        "outputId": "4b7e4559-c999-4454-853a-a236b7fedc5e"
      },
      "cell_type": "code",
      "source": [
        "plot_decision_boundary(mlp, X, y_raw)"
      ],
      "execution_count": 21,
      "outputs": [
        {
          "output_type": "display_data",
          "data": {
            "image/png": "[encoded data removed]",
            "text/plain": [
              "<matplotlib.figure.Figure at 0x7f756f066a20>"
            ]
          },
          "metadata": {
            "tags": []
          }
        }
      ]
    },
    {
      "metadata": {
        "id": "2ihYTbCWn7q8",
        "colab_type": "code",
        "colab": {}
      },
      "cell_type": "code",
      "source": [
        ""
      ],
      "execution_count": 0,
      "outputs": []
    }
  ]
}