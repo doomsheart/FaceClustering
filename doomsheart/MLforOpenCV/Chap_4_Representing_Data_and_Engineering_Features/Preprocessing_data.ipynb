{
  "nbformat": 4,
  "nbformat_minor": 0,
  "metadata": {
    "colab": {
      "name": "Preprocessing_data.ipynb",
      "version": "0.3.2",
      "provenance": []
    },
    "kernelspec": {
      "name": "python3",
      "display_name": "Python 3"
    }
  },
  "cells": [
    {
      "metadata": {
        "id": "OTxaXrqbytMI",
        "colab_type": "code",
        "colab": {}
      },
      "cell_type": "code",
      "source": [
        "from sklearn import preprocessing\n",
        "import numpy as np\n",
        "X = np.array([[1., -2., 2.],\n",
        "             [3., 0., 0.],\n",
        "             [0., 1., -1.]])"
      ],
      "execution_count": 0,
      "outputs": []
    },
    {
      "metadata": {
        "id": "6iIV742nzFY0",
        "colab_type": "code",
        "colab": {
          "base_uri": "https://localhost:8080/",
          "height": 72
        },
        "outputId": "c100d7ba-4bc6-4080-df62-33ac61125794"
      },
      "cell_type": "code",
      "source": [
        "X_scaled = preprocessing.scale(X)\n",
        "X_scaled"
      ],
      "execution_count": 17,
      "outputs": [
        {
          "output_type": "execute_result",
          "data": {
            "text/plain": [
              "array([[-0.26726124, -1.33630621,  1.33630621],\n",
              "       [ 1.33630621,  0.26726124, -0.26726124],\n",
              "       [-1.06904497,  1.06904497, -1.06904497]])"
            ]
          },
          "metadata": {
            "tags": []
          },
          "execution_count": 17
        }
      ]
    },
    {
      "metadata": {
        "id": "41RTuxHvzL5Q",
        "colab_type": "code",
        "colab": {
          "base_uri": "https://localhost:8080/",
          "height": 35
        },
        "outputId": "6882c9d8-9381-4ec4-82fb-e6691e9de1f0"
      },
      "cell_type": "code",
      "source": [
        "X_scaled.std(axis=0)"
      ],
      "execution_count": 18,
      "outputs": [
        {
          "output_type": "execute_result",
          "data": {
            "text/plain": [
              "array([1., 1., 1.])"
            ]
          },
          "metadata": {
            "tags": []
          },
          "execution_count": 18
        }
      ]
    },
    {
      "metadata": {
        "id": "SRn67xc3zdbZ",
        "colab_type": "code",
        "colab": {
          "base_uri": "https://localhost:8080/",
          "height": 35
        },
        "outputId": "1289ca9b-5ac6-4810-9754-cb78bc50f6e0"
      },
      "cell_type": "code",
      "source": [
        "X_scaled.mean(axis=0)"
      ],
      "execution_count": 19,
      "outputs": [
        {
          "output_type": "execute_result",
          "data": {
            "text/plain": [
              "array([7.40148683e-17, 0.00000000e+00, 0.00000000e+00])"
            ]
          },
          "metadata": {
            "tags": []
          },
          "execution_count": 19
        }
      ]
    },
    {
      "metadata": {
        "id": "S-2KC4UHzhP4",
        "colab_type": "code",
        "colab": {
          "base_uri": "https://localhost:8080/",
          "height": 72
        },
        "outputId": "6340098a-ec13-4b06-e1d3-b1bb18f42362"
      },
      "cell_type": "code",
      "source": [
        "X_normalized_l1 = preprocessing.normalize(X, norm='l1')\n",
        "X_normalized_l1"
      ],
      "execution_count": 20,
      "outputs": [
        {
          "output_type": "execute_result",
          "data": {
            "text/plain": [
              "array([[ 0.2, -0.4,  0.4],\n",
              "       [ 1. ,  0. ,  0. ],\n",
              "       [ 0. ,  0.5, -0.5]])"
            ]
          },
          "metadata": {
            "tags": []
          },
          "execution_count": 20
        }
      ]
    },
    {
      "metadata": {
        "id": "YvWzS_Xd6ghR",
        "colab_type": "code",
        "colab": {
          "base_uri": "https://localhost:8080/",
          "height": 72
        },
        "outputId": "e97c9c47-943f-4b51-8350-d78031fb6f20"
      },
      "cell_type": "code",
      "source": [
        "X_normalized_l2 = preprocessing.normalize(X, norm='l2')\n",
        "X_normalized_l2"
      ],
      "execution_count": 21,
      "outputs": [
        {
          "output_type": "execute_result",
          "data": {
            "text/plain": [
              "array([[ 0.33333333, -0.66666667,  0.66666667],\n",
              "       [ 1.        ,  0.        ,  0.        ],\n",
              "       [ 0.        ,  0.70710678, -0.70710678]])"
            ]
          },
          "metadata": {
            "tags": []
          },
          "execution_count": 21
        }
      ]
    },
    {
      "metadata": {
        "id": "3aPi6B_e6oQ_",
        "colab_type": "code",
        "colab": {
          "base_uri": "https://localhost:8080/",
          "height": 72
        },
        "outputId": "ae5e13fb-2a28-4e3c-95e6-9d96c5b64a5f"
      },
      "cell_type": "code",
      "source": [
        "min_max_scaler = preprocessing.MinMaxScaler()\n",
        "X_min_max = min_max_scaler.fit_transform(X)\n",
        "X_min_max"
      ],
      "execution_count": 22,
      "outputs": [
        {
          "output_type": "execute_result",
          "data": {
            "text/plain": [
              "array([[0.33333333, 0.        , 1.        ],\n",
              "       [1.        , 0.66666667, 0.33333333],\n",
              "       [0.        , 1.        , 0.        ]])"
            ]
          },
          "metadata": {
            "tags": []
          },
          "execution_count": 22
        }
      ]
    },
    {
      "metadata": {
        "id": "X4Z6bACJ608f",
        "colab_type": "code",
        "colab": {
          "base_uri": "https://localhost:8080/",
          "height": 72
        },
        "outputId": "9781f544-c268-46af-b4f0-09c7fa1bc1e0"
      },
      "cell_type": "code",
      "source": [
        "X"
      ],
      "execution_count": 23,
      "outputs": [
        {
          "output_type": "execute_result",
          "data": {
            "text/plain": [
              "array([[ 1., -2.,  2.],\n",
              "       [ 3.,  0.,  0.],\n",
              "       [ 0.,  1., -1.]])"
            ]
          },
          "metadata": {
            "tags": []
          },
          "execution_count": 23
        }
      ]
    },
    {
      "metadata": {
        "id": "R3pjxZ3y8IZ7",
        "colab_type": "code",
        "colab": {
          "base_uri": "https://localhost:8080/",
          "height": 72
        },
        "outputId": "3cb58c78-e9d3-4265-8aa3-b95bdab1663d"
      },
      "cell_type": "code",
      "source": [
        "binarizer = preprocessing.Binarizer(threshold=0.5)\n",
        "X_binarized = binarizer.transform(X)\n",
        "X_binarized"
      ],
      "execution_count": 24,
      "outputs": [
        {
          "output_type": "execute_result",
          "data": {
            "text/plain": [
              "array([[1., 0., 1.],\n",
              "       [1., 0., 0.],\n",
              "       [0., 1., 0.]])"
            ]
          },
          "metadata": {
            "tags": []
          },
          "execution_count": 24
        }
      ]
    }
  ]
}