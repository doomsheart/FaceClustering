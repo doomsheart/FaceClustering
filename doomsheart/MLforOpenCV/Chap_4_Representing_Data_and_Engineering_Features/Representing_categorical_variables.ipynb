{
  "nbformat": 4,
  "nbformat_minor": 0,
  "metadata": {
    "colab": {
      "name": "Representing_categorical_variables.ipynb",
      "version": "0.3.2",
      "provenance": [],
      "collapsed_sections": []
    },
    "kernelspec": {
      "name": "python3",
      "display_name": "Python 3"
    }
  },
  "cells": [
    {
      "metadata": {
        "id": "gObV4KZizTCf",
        "colab_type": "code",
        "colab": {}
      },
      "cell_type": "code",
      "source": [
        "data = [\n",
        "    {'name': 'Alan Turing', 'born': 1912, 'died': 1954}, \n",
        "    {'name': 'Herbert A. Simon', 'born': 1916, 'died': 2001}, \n",
        "    {'name': 'Jacek Karpinski', 'born': 1927, 'died': 2010}, \n",
        "    {'name': 'J.C.R. Licklider', 'born': 1915, 'died': 1990}, \n",
        "    {'name': 'Marvin Minsky', 'born': 1927, 'died': 2016}\n",
        "] "
      ],
      "execution_count": 0,
      "outputs": []
    },
    {
      "metadata": {
        "id": "x3hneI9FzoUF",
        "colab_type": "code",
        "colab": {
          "base_uri": "https://localhost:8080/",
          "height": 110
        },
        "outputId": "7a6ce6d4-be51-4d02-ccd1-800ffbd8d62c"
      },
      "cell_type": "code",
      "source": [
        "from sklearn.feature_extraction import DictVectorizer\n",
        "vec = DictVectorizer(sparse=False, dtype=int) \n",
        "vec.fit_transform(data)"
      ],
      "execution_count": 6,
      "outputs": [
        {
          "output_type": "execute_result",
          "data": {
            "text/plain": [
              "array([[1912, 1954,    1,    0,    0,    0,    0],\n",
              "       [1916, 2001,    0,    1,    0,    0,    0],\n",
              "       [1927, 2010,    0,    0,    0,    1,    0],\n",
              "       [1915, 1990,    0,    0,    1,    0,    0],\n",
              "       [1927, 2016,    0,    0,    0,    0,    1]], dtype=int64)"
            ]
          },
          "metadata": {
            "tags": []
          },
          "execution_count": 6
        }
      ]
    },
    {
      "metadata": {
        "id": "3uaPX8R1zvKu",
        "colab_type": "code",
        "colab": {
          "base_uri": "https://localhost:8080/",
          "height": 147
        },
        "outputId": "768acbf5-f19f-48fe-b1dc-869e1cb9266d"
      },
      "cell_type": "code",
      "source": [
        "vec.get_feature_names()"
      ],
      "execution_count": 7,
      "outputs": [
        {
          "output_type": "execute_result",
          "data": {
            "text/plain": [
              "['born',\n",
              " 'died',\n",
              " 'name=Alan Turing',\n",
              " 'name=Herbert A. Simon',\n",
              " 'name=J.C.R. Licklider',\n",
              " 'name=Jacek Karpinski',\n",
              " 'name=Marvin Minsky']"
            ]
          },
          "metadata": {
            "tags": []
          },
          "execution_count": 7
        }
      ]
    },
    {
      "metadata": {
        "id": "NkIIZmif2Ea-",
        "colab_type": "code",
        "colab": {
          "base_uri": "https://localhost:8080/",
          "height": 54
        },
        "outputId": "3b50226e-d47c-4865-a1c8-4c740a503e4a"
      },
      "cell_type": "code",
      "source": [
        "vec = DictVectorizer(sparse=True, dtype=int)\n",
        "vec.fit_transform(data)"
      ],
      "execution_count": 9,
      "outputs": [
        {
          "output_type": "execute_result",
          "data": {
            "text/plain": [
              "<5x7 sparse matrix of type '<class 'numpy.int64'>'\n",
              "\twith 15 stored elements in Compressed Sparse Row format>"
            ]
          },
          "metadata": {
            "tags": []
          },
          "execution_count": 9
        }
      ]
    },
    {
      "metadata": {
        "id": "biLam478EEpL",
        "colab_type": "code",
        "colab": {
          "base_uri": "https://localhost:8080/",
          "height": 147
        },
        "outputId": "ffaa9160-daab-44b6-9a6a-c3221fac4faf"
      },
      "cell_type": "code",
      "source": [
        "vec.get_feature_names()"
      ],
      "execution_count": 10,
      "outputs": [
        {
          "output_type": "execute_result",
          "data": {
            "text/plain": [
              "['born',\n",
              " 'died',\n",
              " 'name=Alan Turing',\n",
              " 'name=Herbert A. Simon',\n",
              " 'name=J.C.R. Licklider',\n",
              " 'name=Jacek Karpinski',\n",
              " 'name=Marvin Minsky']"
            ]
          },
          "metadata": {
            "tags": []
          },
          "execution_count": 10
        }
      ]
    },
    {
      "metadata": {
        "id": "c0Lv-x3eEVRX",
        "colab_type": "code",
        "colab": {}
      },
      "cell_type": "code",
      "source": [
        ""
      ],
      "execution_count": 0,
      "outputs": []
    }
  ]
}